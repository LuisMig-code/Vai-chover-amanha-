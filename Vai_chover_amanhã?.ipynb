{
  "nbformat": 4,
  "nbformat_minor": 0,
  "metadata": {
    "colab": {
      "name": "Vai chover amanhã?.ipynb",
      "provenance": [],
      "collapsed_sections": [],
      "authorship_tag": "ABX9TyNTyTpmHsCmyN+in6+mNzyb",
      "include_colab_link": true
    },
    "kernelspec": {
      "name": "python3",
      "display_name": "Python 3"
    },
    "language_info": {
      "name": "python"
    }
  },
  "cells": [
    {
      "cell_type": "markdown",
      "metadata": {
        "id": "view-in-github",
        "colab_type": "text"
      },
      "source": [
        "<a href=\"https://colab.research.google.com/github/LuisMig-code/Vai-chover-amanha-/blob/main/Vai_chover_amanh%C3%A3%3F.ipynb\" target=\"_parent\"><img src=\"https://colab.research.google.com/assets/colab-badge.svg\" alt=\"Open In Colab\"/></a>"
      ]
    },
    {
      "cell_type": "markdown",
      "metadata": {
        "id": "dnvK0xEZhkWS"
      },
      "source": [
        "# Vai chover amanhã?"
      ]
    },
    {
      "cell_type": "markdown",
      "metadata": {
        "id": "cjs-RHoti0ra"
      },
      "source": [
        "<img src=\"https://images.pexels.com/photos/125510/pexels-photo-125510.jpeg?auto=compress&cs=tinysrgb&dpr=1\" width=700>"
      ]
    },
    {
      "cell_type": "markdown",
      "metadata": {
        "id": "LZWVmfjah_dp"
      },
      "source": [
        "Não sei vocês , mas eu constantemente checo o clime, questão de hábito. A todo momento estou olhando a temperatura para o dia todo! Se vai chover mais tarde ou não , com certeza eu sei te dizer! Pensando nisso , imaginei : \"Como saber se de fato amanhã vai chover? como os metereologistas fazem esse processo?\". Já devo adiantar , não vou trazer uma resposta científica e complexa para essa pergunta , mas um *dataset* que achei na internet pode me ajudar nesse questionamento!"
      ]
    },
    {
      "cell_type": "markdown",
      "metadata": {
        "id": "4WW_2to3jljW"
      },
      "source": [
        "## Vamos pensar!"
      ]
    },
    {
      "cell_type": "markdown",
      "metadata": {
        "id": "jLjUNnF5jnNx"
      },
      "source": [
        "O Primeiro passo é **entender o que estamos buscando de resultado e posteriormente entender o dados!**\n",
        "\n",
        "\n",
        "Afinal , o que queremos com esse projeto? Simples: **Construir um modelo de Machine Learning para saber se amanhã vai chover ou não!**"
      ]
    },
    {
      "cell_type": "markdown",
      "metadata": {
        "id": "BE8dqECQj058"
      },
      "source": [
        "Tendo isso em mente , precisamos entender os nossos dados, o que temos a nossa disposição para responder essa pergunta?"
      ]
    },
    {
      "cell_type": "markdown",
      "metadata": {
        "id": "54V26JJ7j_HG"
      },
      "source": [
        "## Nossos dados:"
      ]
    },
    {
      "cell_type": "markdown",
      "metadata": {
        "id": "0vCOjSs7kA5d"
      },
      "source": [
        "O conjunto de dados (*dataset*) esta disponível no [kaggle](https://www.kaggle.com/) e trás consigo diversas informações climáticas (direção do vento,temperatura máxima e mínima , pressão do ar, etc) de um determinado dia e se choveu ou não no dia seguinte a ele!"
      ]
    },
    {
      "cell_type": "markdown",
      "metadata": {
        "id": "qu-ynOPpkYnu"
      },
      "source": [
        "Para acessar essa base de dados , clique [aqui](https://www.kaggle.com/jsphyg/weather-dataset-rattle-package)."
      ]
    },
    {
      "cell_type": "markdown",
      "metadata": {
        "id": "1JWgVC4xkf5z"
      },
      "source": [
        "O primordial para qualquer projeto em *Data Science* é começar importando todas as bibliotecas necessárias para as análises."
      ]
    },
    {
      "cell_type": "code",
      "metadata": {
        "colab": {
          "base_uri": "https://localhost:8080/"
        },
        "id": "5c6E3RHKhmzr",
        "outputId": "f051f5e8-953c-429e-e963-29a2add7b7c1"
      },
      "source": [
        "# import necessários:\n",
        "import pandas as pd\n",
        "import numpy as np\n",
        "import matplotlib.pyplot as plt\n",
        "import seaborn as sns\n",
        "from sklearn import preprocessing\n",
        "from sklearn.model_selection import train_test_split\n",
        "from xgboost import XGBClassifier\n",
        "from sklearn.metrics import accuracy_score , classification_report\n",
        "from imblearn.under_sampling import NearMiss"
      ],
      "execution_count": 1,
      "outputs": [
        {
          "output_type": "stream",
          "name": "stderr",
          "text": [
            "/usr/local/lib/python3.7/dist-packages/sklearn/externals/six.py:31: FutureWarning: The module is deprecated in version 0.21 and will be removed in version 0.23 since we've dropped support for Python 2.7. Please rely on the official version of six (https://pypi.org/project/six/).\n",
            "  \"(https://pypi.org/project/six/).\", FutureWarning)\n",
            "/usr/local/lib/python3.7/dist-packages/sklearn/utils/deprecation.py:144: FutureWarning: The sklearn.neighbors.base module is  deprecated in version 0.22 and will be removed in version 0.24. The corresponding classes / functions should instead be imported from sklearn.neighbors. Anything that cannot be imported from sklearn.neighbors is now part of the private API.\n",
            "  warnings.warn(message, FutureWarning)\n"
          ]
        }
      ]
    },
    {
      "cell_type": "markdown",
      "metadata": {
        "id": "wIlvNZh6kzwA"
      },
      "source": [
        "Tendo tudo importando , devemos começar lendo nossa base de dados:"
      ]
    },
    {
      "cell_type": "code",
      "metadata": {
        "id": "8wVM7yJRky7V"
      },
      "source": [
        "path_dados = \"https://raw.githubusercontent.com/LuisMig-code/Vai-chover-amanha-/main/data/weatherAUS.csv?raw=true\""
      ],
      "execution_count": 2,
      "outputs": []
    },
    {
      "cell_type": "code",
      "metadata": {
        "id": "Nsq8eoOZlmEE"
      },
      "source": [
        "df = pd.read_csv(path_dados)"
      ],
      "execution_count": 3,
      "outputs": []
    },
    {
      "cell_type": "code",
      "metadata": {
        "colab": {
          "base_uri": "https://localhost:8080/",
          "height": 309
        },
        "id": "HZ885XotmrcA",
        "outputId": "3aa28041-3e8c-4d72-85f2-28ba09f19484"
      },
      "source": [
        "df.head()"
      ],
      "execution_count": 4,
      "outputs": [
        {
          "output_type": "execute_result",
          "data": {
            "text/html": [
              "<div>\n",
              "<style scoped>\n",
              "    .dataframe tbody tr th:only-of-type {\n",
              "        vertical-align: middle;\n",
              "    }\n",
              "\n",
              "    .dataframe tbody tr th {\n",
              "        vertical-align: top;\n",
              "    }\n",
              "\n",
              "    .dataframe thead th {\n",
              "        text-align: right;\n",
              "    }\n",
              "</style>\n",
              "<table border=\"1\" class=\"dataframe\">\n",
              "  <thead>\n",
              "    <tr style=\"text-align: right;\">\n",
              "      <th></th>\n",
              "      <th>Date</th>\n",
              "      <th>Location</th>\n",
              "      <th>MinTemp</th>\n",
              "      <th>MaxTemp</th>\n",
              "      <th>Rainfall</th>\n",
              "      <th>Evaporation</th>\n",
              "      <th>Sunshine</th>\n",
              "      <th>WindGustDir</th>\n",
              "      <th>WindGustSpeed</th>\n",
              "      <th>WindDir9am</th>\n",
              "      <th>WindDir3pm</th>\n",
              "      <th>WindSpeed9am</th>\n",
              "      <th>WindSpeed3pm</th>\n",
              "      <th>Humidity9am</th>\n",
              "      <th>Humidity3pm</th>\n",
              "      <th>Pressure9am</th>\n",
              "      <th>Pressure3pm</th>\n",
              "      <th>Cloud9am</th>\n",
              "      <th>Cloud3pm</th>\n",
              "      <th>Temp9am</th>\n",
              "      <th>Temp3pm</th>\n",
              "      <th>RainToday</th>\n",
              "      <th>RainTomorrow</th>\n",
              "    </tr>\n",
              "  </thead>\n",
              "  <tbody>\n",
              "    <tr>\n",
              "      <th>0</th>\n",
              "      <td>2008-12-01</td>\n",
              "      <td>Albury</td>\n",
              "      <td>13.4</td>\n",
              "      <td>22.9</td>\n",
              "      <td>0.6</td>\n",
              "      <td>NaN</td>\n",
              "      <td>NaN</td>\n",
              "      <td>W</td>\n",
              "      <td>44.0</td>\n",
              "      <td>W</td>\n",
              "      <td>WNW</td>\n",
              "      <td>20.0</td>\n",
              "      <td>24.0</td>\n",
              "      <td>71.0</td>\n",
              "      <td>22.0</td>\n",
              "      <td>1007.7</td>\n",
              "      <td>1007.1</td>\n",
              "      <td>8.0</td>\n",
              "      <td>NaN</td>\n",
              "      <td>16.9</td>\n",
              "      <td>21.8</td>\n",
              "      <td>No</td>\n",
              "      <td>No</td>\n",
              "    </tr>\n",
              "    <tr>\n",
              "      <th>1</th>\n",
              "      <td>2008-12-02</td>\n",
              "      <td>Albury</td>\n",
              "      <td>7.4</td>\n",
              "      <td>25.1</td>\n",
              "      <td>0.0</td>\n",
              "      <td>NaN</td>\n",
              "      <td>NaN</td>\n",
              "      <td>WNW</td>\n",
              "      <td>44.0</td>\n",
              "      <td>NNW</td>\n",
              "      <td>WSW</td>\n",
              "      <td>4.0</td>\n",
              "      <td>22.0</td>\n",
              "      <td>44.0</td>\n",
              "      <td>25.0</td>\n",
              "      <td>1010.6</td>\n",
              "      <td>1007.8</td>\n",
              "      <td>NaN</td>\n",
              "      <td>NaN</td>\n",
              "      <td>17.2</td>\n",
              "      <td>24.3</td>\n",
              "      <td>No</td>\n",
              "      <td>No</td>\n",
              "    </tr>\n",
              "    <tr>\n",
              "      <th>2</th>\n",
              "      <td>2008-12-03</td>\n",
              "      <td>Albury</td>\n",
              "      <td>12.9</td>\n",
              "      <td>25.7</td>\n",
              "      <td>0.0</td>\n",
              "      <td>NaN</td>\n",
              "      <td>NaN</td>\n",
              "      <td>WSW</td>\n",
              "      <td>46.0</td>\n",
              "      <td>W</td>\n",
              "      <td>WSW</td>\n",
              "      <td>19.0</td>\n",
              "      <td>26.0</td>\n",
              "      <td>38.0</td>\n",
              "      <td>30.0</td>\n",
              "      <td>1007.6</td>\n",
              "      <td>1008.7</td>\n",
              "      <td>NaN</td>\n",
              "      <td>2.0</td>\n",
              "      <td>21.0</td>\n",
              "      <td>23.2</td>\n",
              "      <td>No</td>\n",
              "      <td>No</td>\n",
              "    </tr>\n",
              "    <tr>\n",
              "      <th>3</th>\n",
              "      <td>2008-12-04</td>\n",
              "      <td>Albury</td>\n",
              "      <td>9.2</td>\n",
              "      <td>28.0</td>\n",
              "      <td>0.0</td>\n",
              "      <td>NaN</td>\n",
              "      <td>NaN</td>\n",
              "      <td>NE</td>\n",
              "      <td>24.0</td>\n",
              "      <td>SE</td>\n",
              "      <td>E</td>\n",
              "      <td>11.0</td>\n",
              "      <td>9.0</td>\n",
              "      <td>45.0</td>\n",
              "      <td>16.0</td>\n",
              "      <td>1017.6</td>\n",
              "      <td>1012.8</td>\n",
              "      <td>NaN</td>\n",
              "      <td>NaN</td>\n",
              "      <td>18.1</td>\n",
              "      <td>26.5</td>\n",
              "      <td>No</td>\n",
              "      <td>No</td>\n",
              "    </tr>\n",
              "    <tr>\n",
              "      <th>4</th>\n",
              "      <td>2008-12-05</td>\n",
              "      <td>Albury</td>\n",
              "      <td>17.5</td>\n",
              "      <td>32.3</td>\n",
              "      <td>1.0</td>\n",
              "      <td>NaN</td>\n",
              "      <td>NaN</td>\n",
              "      <td>W</td>\n",
              "      <td>41.0</td>\n",
              "      <td>ENE</td>\n",
              "      <td>NW</td>\n",
              "      <td>7.0</td>\n",
              "      <td>20.0</td>\n",
              "      <td>82.0</td>\n",
              "      <td>33.0</td>\n",
              "      <td>1010.8</td>\n",
              "      <td>1006.0</td>\n",
              "      <td>7.0</td>\n",
              "      <td>8.0</td>\n",
              "      <td>17.8</td>\n",
              "      <td>29.7</td>\n",
              "      <td>No</td>\n",
              "      <td>No</td>\n",
              "    </tr>\n",
              "  </tbody>\n",
              "</table>\n",
              "</div>"
            ],
            "text/plain": [
              "         Date Location  MinTemp  ...  Temp3pm  RainToday  RainTomorrow\n",
              "0  2008-12-01   Albury     13.4  ...     21.8         No            No\n",
              "1  2008-12-02   Albury      7.4  ...     24.3         No            No\n",
              "2  2008-12-03   Albury     12.9  ...     23.2         No            No\n",
              "3  2008-12-04   Albury      9.2  ...     26.5         No            No\n",
              "4  2008-12-05   Albury     17.5  ...     29.7         No            No\n",
              "\n",
              "[5 rows x 23 columns]"
            ]
          },
          "metadata": {},
          "execution_count": 4
        }
      ]
    },
    {
      "cell_type": "markdown",
      "metadata": {
        "id": "54moWYDLnCWO"
      },
      "source": [
        "Vamos começar identificando quantas linhas de dados temos no nosso *Dataset*"
      ]
    },
    {
      "cell_type": "code",
      "metadata": {
        "colab": {
          "base_uri": "https://localhost:8080/"
        },
        "id": "15afUvfUmtJF",
        "outputId": "b23e3e89-5f16-4b44-90fa-3782bed40753"
      },
      "source": [
        "print(f\"* {df.shape[0]} linhas\")"
      ],
      "execution_count": 5,
      "outputs": [
        {
          "output_type": "stream",
          "name": "stdout",
          "text": [
            "* 145460 linhas\n"
          ]
        }
      ]
    },
    {
      "cell_type": "markdown",
      "metadata": {
        "id": "Bqa7n-hjnR7i"
      },
      "source": [
        "### Tratando os dados:"
      ]
    },
    {
      "cell_type": "markdown",
      "metadata": {
        "id": "-pCj0J34nUAv"
      },
      "source": [
        "O interessante a ressaltar aqui é que neste conjunto de dados temos valores que são numéricos e outros que são categóricos , ou seja , não podemos simplesmente sair removendo qualquer valor vazio que temos aqui, o ideal é pensar beem no que vamos remover do *Dataset*"
      ]
    },
    {
      "cell_type": "markdown",
      "metadata": {
        "id": "SlcLrlwAnkDi"
      },
      "source": [
        "**Não irei entrar no mérito do significado de cada coluna visto que são muitas , mas sinta-se a vontade para checar por você mesmo o que cada uma das colunas significa clicando [aqui](https://www.kaggle.com/jsphyg/weather-dataset-rattle-package)**"
      ]
    },
    {
      "cell_type": "markdown",
      "metadata": {
        "id": "X4lcXcrCn0Rt"
      },
      "source": [
        "Vamos começar tratando as colunas categóricas, com elas eu poderei sim remover!"
      ]
    },
    {
      "cell_type": "code",
      "metadata": {
        "id": "mLLYbULLnIwq"
      },
      "source": [
        "lista_colunas_cat = [\"Date\" , \"Location\" , \"WindGustDir\" , \"WindDir9am\" , \"WindDir3pm\" , \"RainToday\" , \"RainTomorrow\"]\n",
        "\n",
        "df.dropna(subset=lista_colunas_cat , inplace=True)"
      ],
      "execution_count": 6,
      "outputs": []
    },
    {
      "cell_type": "markdown",
      "metadata": {
        "id": "iDuu54o8ozUG"
      },
      "source": [
        "Outro fato que eu gostaria de ressaltar é acerca da data. Para nós a data exata não faz diferença , mas o mês pode sim fazer , visto que provavelmente existem meses do anos que chovem mais do que o comum e outros não , por isso , irei transformar a coluna de data para apenas valores numéricos referenciando o mês em questão."
      ]
    },
    {
      "cell_type": "code",
      "metadata": {
        "id": "2JrdC9CWoPmv"
      },
      "source": [
        "df['Date'] = pd.to_datetime(df['Date'])\n",
        "\n",
        "df['month'] = df['Date'].dt.month\n",
        "\n",
        "df.drop(\"Date\",inplace=True,axis=1)"
      ],
      "execution_count": 7,
      "outputs": []
    },
    {
      "cell_type": "markdown",
      "metadata": {
        "id": "L7PF0m3wpgzO"
      },
      "source": [
        "Por último , temos de decidir o que vamos fazer com os valores numéricos. Normalmente você pode remover os que estão faltantes ou atribuir um peso diferente para eles , para nosso caso eu vou simplesmente remover!\n",
        "\n",
        "Por que não atribuir peso? Simples: **Ao atribuir um peso , para este caso em específico , irei tornar os dados não verídicos!**"
      ]
    },
    {
      "cell_type": "code",
      "metadata": {
        "id": "UWZtrj2OpfoT"
      },
      "source": [
        "df.dropna(inplace=True)"
      ],
      "execution_count": 8,
      "outputs": []
    },
    {
      "cell_type": "markdown",
      "metadata": {
        "id": "ykbljxkkrdkk"
      },
      "source": [
        "Com os dados tratados , vamos ver quantas linhas de dados temos agora?"
      ]
    },
    {
      "cell_type": "code",
      "metadata": {
        "colab": {
          "base_uri": "https://localhost:8080/"
        },
        "id": "ChZ8gxy-rcI3",
        "outputId": "f1292a4a-4944-4ba6-bc3c-f0c20a0234d9"
      },
      "source": [
        "print(f\"* {df.shape[0]} linhas\")"
      ],
      "execution_count": 9,
      "outputs": [
        {
          "output_type": "stream",
          "name": "stdout",
          "text": [
            "* 56420 linhas\n"
          ]
        }
      ]
    },
    {
      "cell_type": "markdown",
      "metadata": {
        "id": "OROvbVe0rnCP"
      },
      "source": [
        "Com os dados tratados , podemos passar agora para uma análise mais visual destes dados!"
      ]
    },
    {
      "cell_type": "markdown",
      "metadata": {
        "id": "lri3inrMrsrC"
      },
      "source": [
        "### Visualização de dados:"
      ]
    },
    {
      "cell_type": "markdown",
      "metadata": {
        "id": "zi5yfqNwwWx0"
      },
      "source": [
        "Tendo os dados bem estruturados , chegou a hora de visualizar algumas variáveis importantes."
      ]
    },
    {
      "cell_type": "markdown",
      "metadata": {
        "id": "mXrEA4OKwgzQ"
      },
      "source": [
        "Começarei identificando qualquer desbalanceamento na nossa variável alvo do *dataset*"
      ]
    },
    {
      "cell_type": "code",
      "metadata": {
        "colab": {
          "base_uri": "https://localhost:8080/",
          "height": 405
        },
        "id": "MsUA_ZkCwsw-",
        "outputId": "1845ff4b-1e7e-42c3-ae2f-abbc9eb230c7"
      },
      "source": [
        "plt.figure(figsize=(10,6))\n",
        "ax = sns.countplot(x = df[\"RainTomorrow\"])\n",
        "ax = ax\n",
        "ax"
      ],
      "execution_count": 10,
      "outputs": [
        {
          "output_type": "execute_result",
          "data": {
            "text/plain": [
              "<matplotlib.axes._subplots.AxesSubplot at 0x7fb57b7cdd10>"
            ]
          },
          "metadata": {},
          "execution_count": 10
        },
        {
          "output_type": "display_data",
          "data": {
            "image/png": "[encoded data removed]",
            "text/plain": [
              "<Figure size 720x432 with 1 Axes>"
            ]
          },
          "metadata": {
            "needs_background": "light"
          }
        }
      ]
    },
    {
      "cell_type": "markdown",
      "metadata": {
        "id": "FqPrykCPxpXB"
      },
      "source": [
        "Já podemos notar que temos um desbalanceamento nas classes. Existem mais dados onde nossa variável alvo(*RainTomorrow*) foi classificada como \"No\" em comparação aos classificados como \"Yes\"."
      ]
    },
    {
      "cell_type": "markdown",
      "metadata": {
        "id": "AS3_CUsdx5WC"
      },
      "source": [
        "Em um outro artigo meu já debati mais sobre esse tema , como resolvê-lo e as consequências dele para um projeto de *DataScience* , caso queira acessar , clique [aqui](https://luis-miguel-code.medium.com/como-lidar-com-classes-desbalanceadas-em-machine-learning-precision-recall-oversampling-e-ce21e3ccb615)."
      ]
    },
    {
      "cell_type": "markdown",
      "metadata": {
        "id": "ifkWPEuQysw8"
      },
      "source": [
        "Irei aplicar o Nearmiss nos dados , mas somente na parte de Machine Learning."
      ]
    },
    {
      "cell_type": "markdown",
      "metadata": {
        "id": "kSXxCrOxzhwm"
      },
      "source": [
        "Por hora , vamos nos concentrar em entender a correlação das nossas variáveis."
      ]
    },
    {
      "cell_type": "code",
      "metadata": {
        "colab": {
          "base_uri": "https://localhost:8080/",
          "height": 826
        },
        "id": "JZaFx9EB0nX-",
        "outputId": "832495ff-899a-4275-b563-46c0228c9452"
      },
      "source": [
        "plt.figure(figsize=(11,15))\n",
        "\n",
        "ax = sns.heatmap(df.corr() , cbar_kws={\"orientation\": \"horizontal\"} , annot=True , \n",
        "                 vmin=-1.0 , vmax=1.0 , linewidths=.5)\n",
        "ax.set_title(\"Correlação entre as variáveis \\n\" , fontsize=24)\n",
        "ax=ax"
      ],
      "execution_count": 11,
      "outputs": [
        {
          "output_type": "display_data",
          "data": {
            "image/png": "[encoded data removed]",
            "text/plain": [
              "<Figure size 792x1080 with 2 Axes>"
            ]
          },
          "metadata": {
            "needs_background": "light"
          }
        }
      ]
    },
    {
      "cell_type": "markdown",
      "metadata": {
        "id": "7zAGyiaZ1USi"
      },
      "source": [
        "Com esse gráfico podemos identificar a correlação que as variáveis numéricas tem entre sí de forma numérica , onde **+1 significa uma correlação positva , -1 uma correlação engativa e 0 nenhuma correlação!**"
      ]
    },
    {
      "cell_type": "markdown",
      "metadata": {
        "id": "CFd9MVch14mk"
      },
      "source": [
        "## Machine Learning"
      ]
    },
    {
      "cell_type": "markdown",
      "metadata": {
        "id": "o2HrWJrk3L_3"
      },
      "source": [
        "Antes de tomar qualquer ação , devo lembrar que alguns dos nossos dados (categóricos) são valores do tipo texto , modelos de *Machine Learning* não interpretam textos , apenas número . Logo , o primeiro passo a ser tomado é **transformar esses dados em dados interpretáveis pela máquina**."
      ]
    },
    {
      "cell_type": "code",
      "metadata": {
        "id": "I71jt0Xt3FWo"
      },
      "source": [
        "colunas_categorias = [\"RainToday\",\"RainTomorrow\"]\n",
        "\n",
        "encoder = preprocessing.LabelEncoder()\n",
        "\n",
        "for coluna in colunas_categorias:\n",
        "  df[coluna] = encoder.fit_transform(df[coluna])"
      ],
      "execution_count": 12,
      "outputs": []
    },
    {
      "cell_type": "code",
      "metadata": {
        "id": "tniFMRAd4Xg3"
      },
      "source": [
        "colunas_get_dummies = [\"Location\",\"WindGustDir\",\"WindDir9am\",\"WindDir3pm\"]\n",
        "\n",
        "df = pd.get_dummies(df,columns=colunas_get_dummies)"
      ],
      "execution_count": 13,
      "outputs": []
    },
    {
      "cell_type": "code",
      "metadata": {
        "colab": {
          "base_uri": "https://localhost:8080/",
          "height": 253
        },
        "id": "kg2vPLYQ4ZC9",
        "outputId": "121e4557-2508-4dcf-d7a2-ed80b069636c"
      },
      "source": [
        "df.sample(5)"
      ],
      "execution_count": 14,
      "outputs": [
        {
          "output_type": "execute_result",
          "data": {
            "text/html": [
              "<div>\n",
              "<style scoped>\n",
              "    .dataframe tbody tr th:only-of-type {\n",
              "        vertical-align: middle;\n",
              "    }\n",
              "\n",
              "    .dataframe tbody tr th {\n",
              "        vertical-align: top;\n",
              "    }\n",
              "\n",
              "    .dataframe thead th {\n",
              "        text-align: right;\n",
              "    }\n",
              "</style>\n",
              "<table border=\"1\" class=\"dataframe\">\n",
              "  <thead>\n",
              "    <tr style=\"text-align: right;\">\n",
              "      <th></th>\n",
              "      <th>MinTemp</th>\n",
              "      <th>MaxTemp</th>\n",
              "      <th>Rainfall</th>\n",
              "      <th>Evaporation</th>\n",
              "      <th>Sunshine</th>\n",
              "      <th>WindGustSpeed</th>\n",
              "      <th>WindSpeed9am</th>\n",
              "      <th>WindSpeed3pm</th>\n",
              "      <th>Humidity9am</th>\n",
              "      <th>Humidity3pm</th>\n",
              "      <th>Pressure9am</th>\n",
              "      <th>Pressure3pm</th>\n",
              "      <th>Cloud9am</th>\n",
              "      <th>Cloud3pm</th>\n",
              "      <th>Temp9am</th>\n",
              "      <th>Temp3pm</th>\n",
              "      <th>RainToday</th>\n",
              "      <th>RainTomorrow</th>\n",
              "      <th>month</th>\n",
              "      <th>Location_AliceSprings</th>\n",
              "      <th>Location_Brisbane</th>\n",
              "      <th>Location_Cairns</th>\n",
              "      <th>Location_Canberra</th>\n",
              "      <th>Location_Cobar</th>\n",
              "      <th>Location_CoffsHarbour</th>\n",
              "      <th>Location_Darwin</th>\n",
              "      <th>Location_Hobart</th>\n",
              "      <th>Location_Melbourne</th>\n",
              "      <th>Location_MelbourneAirport</th>\n",
              "      <th>Location_Mildura</th>\n",
              "      <th>Location_Moree</th>\n",
              "      <th>Location_MountGambier</th>\n",
              "      <th>Location_NorfolkIsland</th>\n",
              "      <th>Location_Nuriootpa</th>\n",
              "      <th>Location_Perth</th>\n",
              "      <th>Location_PerthAirport</th>\n",
              "      <th>Location_Portland</th>\n",
              "      <th>Location_Sale</th>\n",
              "      <th>Location_Sydney</th>\n",
              "      <th>Location_SydneyAirport</th>\n",
              "      <th>...</th>\n",
              "      <th>WindGustDir_S</th>\n",
              "      <th>WindGustDir_SE</th>\n",
              "      <th>WindGustDir_SSE</th>\n",
              "      <th>WindGustDir_SSW</th>\n",
              "      <th>WindGustDir_SW</th>\n",
              "      <th>WindGustDir_W</th>\n",
              "      <th>WindGustDir_WNW</th>\n",
              "      <th>WindGustDir_WSW</th>\n",
              "      <th>WindDir9am_E</th>\n",
              "      <th>WindDir9am_ENE</th>\n",
              "      <th>WindDir9am_ESE</th>\n",
              "      <th>WindDir9am_N</th>\n",
              "      <th>WindDir9am_NE</th>\n",
              "      <th>WindDir9am_NNE</th>\n",
              "      <th>WindDir9am_NNW</th>\n",
              "      <th>WindDir9am_NW</th>\n",
              "      <th>WindDir9am_S</th>\n",
              "      <th>WindDir9am_SE</th>\n",
              "      <th>WindDir9am_SSE</th>\n",
              "      <th>WindDir9am_SSW</th>\n",
              "      <th>WindDir9am_SW</th>\n",
              "      <th>WindDir9am_W</th>\n",
              "      <th>WindDir9am_WNW</th>\n",
              "      <th>WindDir9am_WSW</th>\n",
              "      <th>WindDir3pm_E</th>\n",
              "      <th>WindDir3pm_ENE</th>\n",
              "      <th>WindDir3pm_ESE</th>\n",
              "      <th>WindDir3pm_N</th>\n",
              "      <th>WindDir3pm_NE</th>\n",
              "      <th>WindDir3pm_NNE</th>\n",
              "      <th>WindDir3pm_NNW</th>\n",
              "      <th>WindDir3pm_NW</th>\n",
              "      <th>WindDir3pm_S</th>\n",
              "      <th>WindDir3pm_SE</th>\n",
              "      <th>WindDir3pm_SSE</th>\n",
              "      <th>WindDir3pm_SSW</th>\n",
              "      <th>WindDir3pm_SW</th>\n",
              "      <th>WindDir3pm_W</th>\n",
              "      <th>WindDir3pm_WNW</th>\n",
              "      <th>WindDir3pm_WSW</th>\n",
              "    </tr>\n",
              "  </thead>\n",
              "  <tbody>\n",
              "    <tr>\n",
              "      <th>102861</th>\n",
              "      <td>6.7</td>\n",
              "      <td>19.2</td>\n",
              "      <td>0.0</td>\n",
              "      <td>4.0</td>\n",
              "      <td>12.4</td>\n",
              "      <td>33.0</td>\n",
              "      <td>20.0</td>\n",
              "      <td>13.0</td>\n",
              "      <td>54.0</td>\n",
              "      <td>38.0</td>\n",
              "      <td>1025.3</td>\n",
              "      <td>1022.2</td>\n",
              "      <td>6.0</td>\n",
              "      <td>3.0</td>\n",
              "      <td>12.8</td>\n",
              "      <td>17.8</td>\n",
              "      <td>0</td>\n",
              "      <td>0</td>\n",
              "      <td>11</td>\n",
              "      <td>0</td>\n",
              "      <td>0</td>\n",
              "      <td>0</td>\n",
              "      <td>0</td>\n",
              "      <td>0</td>\n",
              "      <td>0</td>\n",
              "      <td>0</td>\n",
              "      <td>0</td>\n",
              "      <td>0</td>\n",
              "      <td>0</td>\n",
              "      <td>0</td>\n",
              "      <td>0</td>\n",
              "      <td>0</td>\n",
              "      <td>0</td>\n",
              "      <td>1</td>\n",
              "      <td>0</td>\n",
              "      <td>0</td>\n",
              "      <td>0</td>\n",
              "      <td>0</td>\n",
              "      <td>0</td>\n",
              "      <td>0</td>\n",
              "      <td>...</td>\n",
              "      <td>0</td>\n",
              "      <td>1</td>\n",
              "      <td>0</td>\n",
              "      <td>0</td>\n",
              "      <td>0</td>\n",
              "      <td>0</td>\n",
              "      <td>0</td>\n",
              "      <td>0</td>\n",
              "      <td>0</td>\n",
              "      <td>0</td>\n",
              "      <td>1</td>\n",
              "      <td>0</td>\n",
              "      <td>0</td>\n",
              "      <td>0</td>\n",
              "      <td>0</td>\n",
              "      <td>0</td>\n",
              "      <td>0</td>\n",
              "      <td>0</td>\n",
              "      <td>0</td>\n",
              "      <td>0</td>\n",
              "      <td>0</td>\n",
              "      <td>0</td>\n",
              "      <td>0</td>\n",
              "      <td>0</td>\n",
              "      <td>0</td>\n",
              "      <td>0</td>\n",
              "      <td>0</td>\n",
              "      <td>0</td>\n",
              "      <td>0</td>\n",
              "      <td>0</td>\n",
              "      <td>0</td>\n",
              "      <td>0</td>\n",
              "      <td>0</td>\n",
              "      <td>1</td>\n",
              "      <td>0</td>\n",
              "      <td>0</td>\n",
              "      <td>0</td>\n",
              "      <td>0</td>\n",
              "      <td>0</td>\n",
              "      <td>0</td>\n",
              "    </tr>\n",
              "    <tr>\n",
              "      <th>106671</th>\n",
              "      <td>19.1</td>\n",
              "      <td>37.2</td>\n",
              "      <td>0.0</td>\n",
              "      <td>10.8</td>\n",
              "      <td>9.0</td>\n",
              "      <td>39.0</td>\n",
              "      <td>19.0</td>\n",
              "      <td>20.0</td>\n",
              "      <td>16.0</td>\n",
              "      <td>7.0</td>\n",
              "      <td>1015.2</td>\n",
              "      <td>1012.9</td>\n",
              "      <td>6.0</td>\n",
              "      <td>4.0</td>\n",
              "      <td>26.8</td>\n",
              "      <td>36.7</td>\n",
              "      <td>0</td>\n",
              "      <td>0</td>\n",
              "      <td>2</td>\n",
              "      <td>0</td>\n",
              "      <td>0</td>\n",
              "      <td>0</td>\n",
              "      <td>0</td>\n",
              "      <td>0</td>\n",
              "      <td>0</td>\n",
              "      <td>0</td>\n",
              "      <td>0</td>\n",
              "      <td>0</td>\n",
              "      <td>0</td>\n",
              "      <td>0</td>\n",
              "      <td>0</td>\n",
              "      <td>0</td>\n",
              "      <td>0</td>\n",
              "      <td>0</td>\n",
              "      <td>0</td>\n",
              "      <td>0</td>\n",
              "      <td>0</td>\n",
              "      <td>0</td>\n",
              "      <td>0</td>\n",
              "      <td>0</td>\n",
              "      <td>...</td>\n",
              "      <td>0</td>\n",
              "      <td>0</td>\n",
              "      <td>0</td>\n",
              "      <td>0</td>\n",
              "      <td>0</td>\n",
              "      <td>0</td>\n",
              "      <td>0</td>\n",
              "      <td>0</td>\n",
              "      <td>0</td>\n",
              "      <td>0</td>\n",
              "      <td>0</td>\n",
              "      <td>0</td>\n",
              "      <td>1</td>\n",
              "      <td>0</td>\n",
              "      <td>0</td>\n",
              "      <td>0</td>\n",
              "      <td>0</td>\n",
              "      <td>0</td>\n",
              "      <td>0</td>\n",
              "      <td>0</td>\n",
              "      <td>0</td>\n",
              "      <td>0</td>\n",
              "      <td>0</td>\n",
              "      <td>0</td>\n",
              "      <td>0</td>\n",
              "      <td>0</td>\n",
              "      <td>0</td>\n",
              "      <td>0</td>\n",
              "      <td>0</td>\n",
              "      <td>0</td>\n",
              "      <td>0</td>\n",
              "      <td>1</td>\n",
              "      <td>0</td>\n",
              "      <td>0</td>\n",
              "      <td>0</td>\n",
              "      <td>0</td>\n",
              "      <td>0</td>\n",
              "      <td>0</td>\n",
              "      <td>0</td>\n",
              "      <td>0</td>\n",
              "    </tr>\n",
              "    <tr>\n",
              "      <th>80554</th>\n",
              "      <td>9.7</td>\n",
              "      <td>19.3</td>\n",
              "      <td>0.0</td>\n",
              "      <td>0.8</td>\n",
              "      <td>5.0</td>\n",
              "      <td>20.0</td>\n",
              "      <td>4.0</td>\n",
              "      <td>7.0</td>\n",
              "      <td>99.0</td>\n",
              "      <td>50.0</td>\n",
              "      <td>1023.6</td>\n",
              "      <td>1021.9</td>\n",
              "      <td>7.0</td>\n",
              "      <td>6.0</td>\n",
              "      <td>11.9</td>\n",
              "      <td>18.3</td>\n",
              "      <td>0</td>\n",
              "      <td>0</td>\n",
              "      <td>4</td>\n",
              "      <td>0</td>\n",
              "      <td>0</td>\n",
              "      <td>0</td>\n",
              "      <td>0</td>\n",
              "      <td>0</td>\n",
              "      <td>0</td>\n",
              "      <td>0</td>\n",
              "      <td>0</td>\n",
              "      <td>0</td>\n",
              "      <td>0</td>\n",
              "      <td>0</td>\n",
              "      <td>0</td>\n",
              "      <td>0</td>\n",
              "      <td>0</td>\n",
              "      <td>0</td>\n",
              "      <td>0</td>\n",
              "      <td>0</td>\n",
              "      <td>0</td>\n",
              "      <td>0</td>\n",
              "      <td>0</td>\n",
              "      <td>0</td>\n",
              "      <td>...</td>\n",
              "      <td>0</td>\n",
              "      <td>0</td>\n",
              "      <td>0</td>\n",
              "      <td>1</td>\n",
              "      <td>0</td>\n",
              "      <td>0</td>\n",
              "      <td>0</td>\n",
              "      <td>0</td>\n",
              "      <td>0</td>\n",
              "      <td>1</td>\n",
              "      <td>0</td>\n",
              "      <td>0</td>\n",
              "      <td>0</td>\n",
              "      <td>0</td>\n",
              "      <td>0</td>\n",
              "      <td>0</td>\n",
              "      <td>0</td>\n",
              "      <td>0</td>\n",
              "      <td>0</td>\n",
              "      <td>0</td>\n",
              "      <td>0</td>\n",
              "      <td>0</td>\n",
              "      <td>0</td>\n",
              "      <td>0</td>\n",
              "      <td>0</td>\n",
              "      <td>0</td>\n",
              "      <td>0</td>\n",
              "      <td>0</td>\n",
              "      <td>0</td>\n",
              "      <td>0</td>\n",
              "      <td>0</td>\n",
              "      <td>0</td>\n",
              "      <td>0</td>\n",
              "      <td>0</td>\n",
              "      <td>0</td>\n",
              "      <td>0</td>\n",
              "      <td>1</td>\n",
              "      <td>0</td>\n",
              "      <td>0</td>\n",
              "      <td>0</td>\n",
              "    </tr>\n",
              "    <tr>\n",
              "      <th>79787</th>\n",
              "      <td>14.4</td>\n",
              "      <td>29.8</td>\n",
              "      <td>0.0</td>\n",
              "      <td>5.6</td>\n",
              "      <td>10.7</td>\n",
              "      <td>30.0</td>\n",
              "      <td>4.0</td>\n",
              "      <td>19.0</td>\n",
              "      <td>80.0</td>\n",
              "      <td>38.0</td>\n",
              "      <td>1025.3</td>\n",
              "      <td>1021.4</td>\n",
              "      <td>8.0</td>\n",
              "      <td>1.0</td>\n",
              "      <td>15.8</td>\n",
              "      <td>28.7</td>\n",
              "      <td>0</td>\n",
              "      <td>0</td>\n",
              "      <td>3</td>\n",
              "      <td>0</td>\n",
              "      <td>0</td>\n",
              "      <td>0</td>\n",
              "      <td>0</td>\n",
              "      <td>0</td>\n",
              "      <td>0</td>\n",
              "      <td>0</td>\n",
              "      <td>0</td>\n",
              "      <td>0</td>\n",
              "      <td>0</td>\n",
              "      <td>0</td>\n",
              "      <td>0</td>\n",
              "      <td>0</td>\n",
              "      <td>0</td>\n",
              "      <td>0</td>\n",
              "      <td>0</td>\n",
              "      <td>0</td>\n",
              "      <td>0</td>\n",
              "      <td>0</td>\n",
              "      <td>0</td>\n",
              "      <td>0</td>\n",
              "      <td>...</td>\n",
              "      <td>0</td>\n",
              "      <td>0</td>\n",
              "      <td>0</td>\n",
              "      <td>0</td>\n",
              "      <td>1</td>\n",
              "      <td>0</td>\n",
              "      <td>0</td>\n",
              "      <td>0</td>\n",
              "      <td>0</td>\n",
              "      <td>0</td>\n",
              "      <td>0</td>\n",
              "      <td>0</td>\n",
              "      <td>0</td>\n",
              "      <td>1</td>\n",
              "      <td>0</td>\n",
              "      <td>0</td>\n",
              "      <td>0</td>\n",
              "      <td>0</td>\n",
              "      <td>0</td>\n",
              "      <td>0</td>\n",
              "      <td>0</td>\n",
              "      <td>0</td>\n",
              "      <td>0</td>\n",
              "      <td>0</td>\n",
              "      <td>0</td>\n",
              "      <td>0</td>\n",
              "      <td>0</td>\n",
              "      <td>0</td>\n",
              "      <td>0</td>\n",
              "      <td>0</td>\n",
              "      <td>0</td>\n",
              "      <td>0</td>\n",
              "      <td>0</td>\n",
              "      <td>0</td>\n",
              "      <td>0</td>\n",
              "      <td>1</td>\n",
              "      <td>0</td>\n",
              "      <td>0</td>\n",
              "      <td>0</td>\n",
              "      <td>0</td>\n",
              "    </tr>\n",
              "    <tr>\n",
              "      <th>22449</th>\n",
              "      <td>14.9</td>\n",
              "      <td>20.1</td>\n",
              "      <td>0.0</td>\n",
              "      <td>4.6</td>\n",
              "      <td>1.7</td>\n",
              "      <td>48.0</td>\n",
              "      <td>24.0</td>\n",
              "      <td>31.0</td>\n",
              "      <td>79.0</td>\n",
              "      <td>91.0</td>\n",
              "      <td>1020.3</td>\n",
              "      <td>1018.1</td>\n",
              "      <td>7.0</td>\n",
              "      <td>8.0</td>\n",
              "      <td>17.6</td>\n",
              "      <td>15.8</td>\n",
              "      <td>0</td>\n",
              "      <td>1</td>\n",
              "      <td>9</td>\n",
              "      <td>0</td>\n",
              "      <td>0</td>\n",
              "      <td>0</td>\n",
              "      <td>0</td>\n",
              "      <td>0</td>\n",
              "      <td>0</td>\n",
              "      <td>0</td>\n",
              "      <td>0</td>\n",
              "      <td>0</td>\n",
              "      <td>0</td>\n",
              "      <td>0</td>\n",
              "      <td>0</td>\n",
              "      <td>0</td>\n",
              "      <td>1</td>\n",
              "      <td>0</td>\n",
              "      <td>0</td>\n",
              "      <td>0</td>\n",
              "      <td>0</td>\n",
              "      <td>0</td>\n",
              "      <td>0</td>\n",
              "      <td>0</td>\n",
              "      <td>...</td>\n",
              "      <td>0</td>\n",
              "      <td>0</td>\n",
              "      <td>0</td>\n",
              "      <td>0</td>\n",
              "      <td>0</td>\n",
              "      <td>0</td>\n",
              "      <td>0</td>\n",
              "      <td>0</td>\n",
              "      <td>1</td>\n",
              "      <td>0</td>\n",
              "      <td>0</td>\n",
              "      <td>0</td>\n",
              "      <td>0</td>\n",
              "      <td>0</td>\n",
              "      <td>0</td>\n",
              "      <td>0</td>\n",
              "      <td>0</td>\n",
              "      <td>0</td>\n",
              "      <td>0</td>\n",
              "      <td>0</td>\n",
              "      <td>0</td>\n",
              "      <td>0</td>\n",
              "      <td>0</td>\n",
              "      <td>0</td>\n",
              "      <td>0</td>\n",
              "      <td>1</td>\n",
              "      <td>0</td>\n",
              "      <td>0</td>\n",
              "      <td>0</td>\n",
              "      <td>0</td>\n",
              "      <td>0</td>\n",
              "      <td>0</td>\n",
              "      <td>0</td>\n",
              "      <td>0</td>\n",
              "      <td>0</td>\n",
              "      <td>0</td>\n",
              "      <td>0</td>\n",
              "      <td>0</td>\n",
              "      <td>0</td>\n",
              "      <td>0</td>\n",
              "    </tr>\n",
              "  </tbody>\n",
              "</table>\n",
              "<p>5 rows × 93 columns</p>\n",
              "</div>"
            ],
            "text/plain": [
              "        MinTemp  MaxTemp  ...  WindDir3pm_WNW  WindDir3pm_WSW\n",
              "102861      6.7     19.2  ...               0               0\n",
              "106671     19.1     37.2  ...               0               0\n",
              "80554       9.7     19.3  ...               0               0\n",
              "79787      14.4     29.8  ...               0               0\n",
              "22449      14.9     20.1  ...               0               0\n",
              "\n",
              "[5 rows x 93 columns]"
            ]
          },
          "metadata": {},
          "execution_count": 14
        }
      ]
    },
    {
      "cell_type": "markdown",
      "metadata": {
        "id": "poKz11dT4dip"
      },
      "source": [
        "Feito isso , podemos começar a dividir nossos dados em variáveis X (variável explicativa) e variável Y (alvo)."
      ]
    },
    {
      "cell_type": "code",
      "metadata": {
        "id": "XOQFJfQv4aoJ"
      },
      "source": [
        "X = df.drop([\"RainTomorrow\"],axis=1)\n",
        "y = df.RainTomorrow"
      ],
      "execution_count": 15,
      "outputs": []
    },
    {
      "cell_type": "markdown",
      "metadata": {
        "id": "zI2boi_n4-Oz"
      },
      "source": [
        "Assim , chegou a parte de proporcionalizar nossos dados e tornanr o número de dados iguais para ambas as classificação de *RainTomorrow*."
      ]
    },
    {
      "cell_type": "code",
      "metadata": {
        "colab": {
          "base_uri": "https://localhost:8080/"
        },
        "id": "D0c4PZvk47Lo",
        "outputId": "c7aeca68-649a-4106-c865-474f1a955a33"
      },
      "source": [
        "# instanciando o NearMiss\n",
        "nm = NearMiss()\n",
        "\n",
        "# Aplicando o Near Miss aos nossos dados:\n",
        "valores_X , valores_y = nm.fit_sample(X , y)"
      ],
      "execution_count": 16,
      "outputs": [
        {
          "output_type": "stream",
          "name": "stderr",
          "text": [
            "/usr/local/lib/python3.7/dist-packages/sklearn/utils/deprecation.py:87: FutureWarning: Function safe_indexing is deprecated; safe_indexing is deprecated in version 0.22 and will be removed in version 0.24.\n",
            "  warnings.warn(msg, category=FutureWarning)\n",
            "/usr/local/lib/python3.7/dist-packages/sklearn/utils/deprecation.py:87: FutureWarning: Function safe_indexing is deprecated; safe_indexing is deprecated in version 0.22 and will be removed in version 0.24.\n",
            "  warnings.warn(msg, category=FutureWarning)\n",
            "/usr/local/lib/python3.7/dist-packages/sklearn/utils/deprecation.py:87: FutureWarning: Function safe_indexing is deprecated; safe_indexing is deprecated in version 0.22 and will be removed in version 0.24.\n",
            "  warnings.warn(msg, category=FutureWarning)\n"
          ]
        }
      ]
    },
    {
      "cell_type": "code",
      "metadata": {
        "colab": {
          "base_uri": "https://localhost:8080/",
          "height": 279
        },
        "id": "M2gX0VME5UUF",
        "outputId": "d7595131-b3d7-4642-e1b5-7f1856af39d5"
      },
      "source": [
        "pd.Series(valores_y).value_counts().plot(kind=\"bar\")"
      ],
      "execution_count": 17,
      "outputs": [
        {
          "output_type": "execute_result",
          "data": {
            "text/plain": [
              "<matplotlib.axes._subplots.AxesSubplot at 0x7fb556ccd710>"
            ]
          },
          "metadata": {},
          "execution_count": 17
        },
        {
          "output_type": "display_data",
          "data": {
            "image/png": "[encoded data removed]",
            "text/plain": [
              "<Figure size 432x288 with 1 Axes>"
            ]
          },
          "metadata": {
            "needs_background": "light"
          }
        }
      ]
    },
    {
      "cell_type": "markdown",
      "metadata": {
        "id": "bJoWYN1n5YmN"
      },
      "source": [
        "Podemos ver agora que ambas tem a mesma quantidade de dados!"
      ]
    },
    {
      "cell_type": "markdown",
      "metadata": {
        "id": "91mE_t4y6K8L"
      },
      "source": [
        "A próxima etapa agora é dividir nossos dados em dados de treino e teste:"
      ]
    },
    {
      "cell_type": "code",
      "metadata": {
        "id": "mMWsbVmH5XKZ"
      },
      "source": [
        "X_treino , X_teste , y_treino , y_teste = train_test_split(valores_X , valores_y ,shuffle=True,random_state=0,stratify=valores_y)"
      ],
      "execution_count": 18,
      "outputs": []
    },
    {
      "cell_type": "markdown",
      "metadata": {
        "id": "NmDT0fgY2FDS"
      },
      "source": [
        "Com os dados divididos , chegou a hora de criar de fato um modelo de predição:"
      ]
    },
    {
      "cell_type": "markdown",
      "metadata": {
        "id": "8-0QM8Jg2RN0"
      },
      "source": [
        "O modelo que será usado é o XGBoost . Não irei entrar nas minúncias das características dele , no geral , para dados tabulares ele é o que melhor se comporta! Caso tenha interesse em entender mais sobre o funcionamento dele, sugiro o vídeo do [Mário Filho](https://www.instagram.com/mariofilhoml/) , para acessar clique [aqui](https://www.youtube.com/watch?v=fG8H-0rb0mY)."
      ]
    },
    {
      "cell_type": "markdown",
      "metadata": {
        "id": "A8iL193e2_es"
      },
      "source": [
        "O primeiro passo é *instanciar* o modelo:"
      ]
    },
    {
      "cell_type": "code",
      "metadata": {
        "id": "JgjUMUOx2KuB"
      },
      "source": [
        "cl = XGBClassifier(random_state = 0,\n",
        "                   learning_rate = 0.05,\n",
        "                   n_estimators = 100,\n",
        "                   max_depth=5)"
      ],
      "execution_count": 19,
      "outputs": []
    },
    {
      "cell_type": "markdown",
      "metadata": {
        "id": "eIiwqBgG3TXd"
      },
      "source": [
        "Com o modelo criado , é necessário agora treiná-lo com os dados que separamos anteriormente:"
      ]
    },
    {
      "cell_type": "code",
      "metadata": {
        "colab": {
          "base_uri": "https://localhost:8080/"
        },
        "id": "KEjPsF1_3OAZ",
        "outputId": "6d9e25b0-2eed-4974-bdb2-531849010a66"
      },
      "source": [
        "cl.fit(X_treino,y_treino)"
      ],
      "execution_count": 21,
      "outputs": [
        {
          "output_type": "execute_result",
          "data": {
            "text/plain": [
              "XGBClassifier(base_score=0.5, booster='gbtree', colsample_bylevel=1,\n",
              "              colsample_bynode=1, colsample_bytree=1, gamma=0,\n",
              "              learning_rate=0.05, max_delta_step=0, max_depth=5,\n",
              "              min_child_weight=1, missing=None, n_estimators=100, n_jobs=1,\n",
              "              nthread=None, objective='binary:logistic', random_state=0,\n",
              "              reg_alpha=0, reg_lambda=1, scale_pos_weight=1, seed=None,\n",
              "              silent=None, subsample=1, verbosity=1)"
            ]
          },
          "metadata": {},
          "execution_count": 21
        }
      ]
    },
    {
      "cell_type": "markdown",
      "metadata": {
        "id": "d-Aba16H3f89"
      },
      "source": [
        "Com um modelo já feito e treinado , chegou a hora de fazer as medições da precisão dele. Para isso vamos usar os dados de teste para checar isso:"
      ]
    },
    {
      "cell_type": "code",
      "metadata": {
        "colab": {
          "base_uri": "https://localhost:8080/"
        },
        "id": "oFZc2lUp3e3s",
        "outputId": "dac0bddb-722f-4f97-aa79-62157e80b2d4"
      },
      "source": [
        "predicoes = cl.predict(X_teste)\n",
        "acuracia = round(accuracy_score(y_teste,predicoes) * 100,2)\n",
        "print(f\"{acuracia}% de acurácia\")\n",
        "print(classification_report(y_teste,predicoes))"
      ],
      "execution_count": 22,
      "outputs": [
        {
          "output_type": "stream",
          "name": "stdout",
          "text": [
            "81.7% de acurácia\n",
            "              precision    recall  f1-score   support\n",
            "\n",
            "           0       0.79      0.87      0.83      3107\n",
            "           1       0.86      0.76      0.81      3107\n",
            "\n",
            "    accuracy                           0.82      6214\n",
            "   macro avg       0.82      0.82      0.82      6214\n",
            "weighted avg       0.82      0.82      0.82      6214\n",
            "\n"
          ]
        }
      ]
    },
    {
      "cell_type": "markdown",
      "metadata": {
        "id": "es7wg8Mp3uv4"
      },
      "source": [
        "De forma mais geral , tivemos uma precisão do modelo de quase 82% , e uma boa precisão para a classificação de ambas as classe (0 ou 1). Caso queira entender como interpretar estes dados, sugiro acessar [este](https://luis-miguel-code.medium.com/como-lidar-com-classes-desbalanceadas-em-machine-learning-precision-recall-oversampling-e-ce21e3ccb615) meu outro artigo o qual eu explico melhor."
      ]
    },
    {
      "cell_type": "markdown",
      "metadata": {
        "id": "eyrXe5FR4LZR"
      },
      "source": [
        "## Conclusões:\n",
        "\n",
        "\n",
        "Hoje aprendemos como se fazem previsões temporais usando Machine Learning , assim como o uso do algoritmo mais famoso do momento , o XGBoost para fazer classificações! Aplicamos também o conceito de undersampling nos dados a fim de encontrar um melhor resultado para nosso modelo. Por hoje é tudo , agradeço a todos que acessaram este notebook Colab.\n",
        "\n",
        "\n",
        "Caso tenha interesse em me encontrar em outras redes , pode acessá-las aqui:\n",
        "\n",
        "  -     [Linktree](https://linktr.ee/iNukss)"
      ]
    },
    {
      "cell_type": "code",
      "metadata": {
        "id": "0PncaL313tGX"
      },
      "source": [
        ""
      ],
      "execution_count": null,
      "outputs": []
    }
  ]
}